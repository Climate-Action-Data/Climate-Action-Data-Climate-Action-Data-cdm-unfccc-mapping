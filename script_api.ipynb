{
 "cells": [
  {
   "cell_type": "code",
   "execution_count": 1,
   "metadata": {},
   "outputs": [],
   "source": [
    "\n",
    "import pandas as pd\n",
    "\n",
    "import numpy as np\n",
    "\n",
    "import requests\n",
    "from requests.exceptions import RequestException\n",
    "import json\n",
    "\n",
    "from datetime import datetime\n",
    "\n"
   ]
  },
  {
   "cell_type": "code",
   "execution_count": 2,
   "metadata": {},
   "outputs": [],
   "source": [
    "\n",
    "\n",
    "df_project = pd.read_excel(\"CDM-Projects-mapped.xlsx\")\n",
    "\n",
    "# Define the API endpoint\n",
    "api_endpoint = \"http://localhost:31310/v1/projects\"\n",
    "\n",
    "# Function to send POST request for each row in the DataFrame\n",
    "def post_projects(df):\n",
    "    # Iterate over each row in the DataFrame\n",
    "    for index, row in df.iterrows():\n",
    "        # Construct the request body from the row, excluding 'projectLocation'\n",
    "        # and adding 'projectLocations' which is not in df_project\n",
    "        request_body = row.to_dict()\n",
    "        \n",
    "        # Example additional data for 'projectLocations' as it is not present in the DataFrame\n",
    "        request_body['projectLocations'] = [\n",
    "            {\n",
    "                \"country\": request_body.get('country', 'Unknown'),\n",
    "                \"inCountryRegion\": request_body.get('inCountryRegion', 'Unknown'),\n",
    "                \"geographicIdentifier\": \"{}\"  # replace with actual geographicIdentifier if available\n",
    "            }\n",
    "        ]\n",
    "        \n",
    "        # Remove the keys that are not needed for the POST request\n",
    "        request_body.pop('country', None)\n",
    "        request_body.pop('inCountryRegion', None)\n",
    "\n",
    "        # Send POST request\n",
    "        try:\n",
    "            response = requests.post(api_endpoint, json=request_body)\n",
    "            # Check if the request was successful\n",
    "            if response.status_code == 200:\n",
    "                print(f\"Successfully posted project with ID: {row['originProjectId']}\")\n",
    "            else:\n",
    "                print(f\"Failed to post project with ID: {row['originProjectId']}. Status code: {response.status_code}\")\n",
    "        except RequestException as e:\n",
    "            print(f\"Request failed for project with ID: {row['originProjectId']}. Error: {e}\")\n",
    "\n",
    "# Call the function to start posting data\n",
    "# post_projects(df_project)\n",
    "df_project"
   ]
  }
 ],
 "metadata": {
  "kernelspec": {
   "display_name": "Python 3.10.12 64-bit",
   "language": "python",
   "name": "python3"
  },
  "language_info": {
   "codemirror_mode": {
    "name": "ipython",
    "version": 3
   },
   "file_extension": ".py",
   "mimetype": "text/x-python",
   "name": "python",
   "nbconvert_exporter": "python",
   "pygments_lexer": "ipython3",
   "version": "3.10.12"
  },
  "orig_nbformat": 4,
  "vscode": {
   "interpreter": {
    "hash": "bd385fe162c5ca0c84973b7dd5c518456272446b2b64e67c2a69f949ca7a1754"
   }
  }
 },
 "nbformat": 4,
 "nbformat_minor": 2
}

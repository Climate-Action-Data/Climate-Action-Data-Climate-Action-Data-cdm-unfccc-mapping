{
 "cells": [
  {
   "cell_type": "code",
   "execution_count": null,
   "id": "3a428929",
   "metadata": {},
   "outputs": [
    {
     "name": "stdout",
     "output_type": "stream",
     "text": [
      "The autoreload extension is already loaded. To reload it, use:\n",
      "  %reload_ext autoreload\n"
     ]
    }
   ],
   "source": [
    "\n",
    "import pandas as pd\n",
    "%load_ext autoreload\n",
    "%autoreload 2\n",
    "from utils import get_units_dataframe\n",
    "\n",
    "\n",
    "# retrieve the units from the Biocarbon org\n",
    "# using the observer API\n",
    "\n",
    "OBSERVER_URL = \"https://observer.climateactiondata.org/api\"\n",
    "BIOCARBON_ORGUID= \"fa47700cb693529602c3eab47a5d681ffe0145dabeee6c69cabdd7869537b917\"\n",
    "\n",
    "\n",
    "\n",
    "biocarbon_units = pd.DataFrame(get_units_dataframe(OBSERVER_URL,BIOCARBON_ORGUID))\n",
    "\n"
   ]
  },
  {
   "cell_type": "code",
   "execution_count": 14,
   "id": "4082a622",
   "metadata": {},
   "outputs": [
    {
     "name": "stdout",
     "output_type": "stream",
     "text": [
      "Unique unitStatus values: ['Retired' 'Buffer' 'Held']\n",
      "Sum of unitCount by unitStatus:\n",
      "unitStatus\n",
      "Buffer     168889\n",
      "Held       995074\n",
      "Retired    863426\n",
      "Name: unitCount, dtype: int64\n"
     ]
    }
   ],
   "source": [
    "# print(biocarbon_units['issuance'].apply(lambda x: x.get('warehouseProjectId') if x else None).unique())\n",
    "\n",
    "# check if the MAVALLE_WAREHOUSE_PROJECTID is in the issuance column\n",
    "MAVALLE_WAREHOUSE_PROJECTID= \"4b278a96-51c1-4b31-adaf-d3969a64116b\"\n",
    "df_mavalle_units = biocarbon_units[biocarbon_units['issuance'].apply(lambda x: x.get('warehouseProjectId')==MAVALLE_WAREHOUSE_PROJECTID)]\n",
    "df_mavalle_units\n",
    "# Populate the unique values of unitStatus in df_mavalle_units\n",
    "unique_status = df_mavalle_units['unitStatus'].unique()\n",
    "print(\"Unique unitStatus values:\", unique_status)\n",
    "\n",
    "# Populate the sum of unitCount grouped by unitStatus\n",
    "unitcount_by_status = df_mavalle_units.groupby('unitStatus')['unitCount'].sum()\n",
    "print(\"Sum of unitCount by unitStatus:\")\n",
    "print(unitcount_by_status)\n"
   ]
  },
  {
   "cell_type": "code",
   "execution_count": null,
   "id": "eedb36cf",
   "metadata": {},
   "outputs": [],
   "source": []
  },
  {
   "cell_type": "code",
   "execution_count": null,
   "id": "d5617e57",
   "metadata": {},
   "outputs": [],
   "source": []
  }
 ],
 "metadata": {
  "kernelspec": {
   "display_name": "Python 3",
   "language": "python",
   "name": "python3"
  },
  "language_info": {
   "codemirror_mode": {
    "name": "ipython",
    "version": 3
   },
   "file_extension": ".py",
   "mimetype": "text/x-python",
   "name": "python",
   "nbconvert_exporter": "python",
   "pygments_lexer": "ipython3",
   "version": "3.10.14"
  }
 },
 "nbformat": 4,
 "nbformat_minor": 5
}
